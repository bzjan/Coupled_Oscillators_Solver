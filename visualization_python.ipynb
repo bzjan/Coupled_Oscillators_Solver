{
 "cells": [
  {
   "cell_type": "code",
   "execution_count": null,
   "metadata": {},
   "outputs": [],
   "source": [
    "# visualization of simulation data\n",
    "\n",
    "# Jan Totz <jantotz@itp.tu-berlin.de>"
   ]
  },
  {
   "cell_type": "code",
   "execution_count": null,
   "metadata": {},
   "outputs": [],
   "source": [
    "# dependencies\n",
    "import numpy as np\n",
    "import os.path\n",
    "import getpass\n",
    "import matplotlib.pyplot as plt\n",
    "import matplotlib as mpl\n",
    "from ipywidgets import widgets, interact"
   ]
  },
  {
   "cell_type": "code",
   "execution_count": null,
   "metadata": {},
   "outputs": [],
   "source": [
    "def loadData(pth):\n",
    "\n",
    "    # get pth and name of file\n",
    "    pthfn = os.path.join(pth, 'states', 'state.bin')\n",
    "    if not os.path.isfile(pthfn):\n",
    "        print('File does not exist!'); quit();\n",
    "    \n",
    "    # define header datatype\n",
    "    headerDatatypes = np.dtype([\n",
    "    (\"nx\", np.int32),\n",
    "    (\"nc\", np.int32),\n",
    "    (\"dt\", np.float32),\n",
    "    ])\n",
    "    \n",
    "    # load data\n",
    "    f = open(pthfn, \"rb\")                                                           # open the file\n",
    "    [nx, nc, dt] = np.fromfile(f, dtype=headerDatatypes, count=1)[0]                # read header\n",
    "    rawData = np.fromfile(f, dtype=np.float64)                                      # read body\n",
    "    f.close()                                                                       # close the file                               \n",
    "    \n",
    "    return [rawData, nc, dt, nx]"
   ]
  },
  {
   "cell_type": "code",
   "execution_count": null,
   "metadata": {},
   "outputs": [],
   "source": [
    "def prepareData(rawData):\n",
    "    \n",
    "    # wrap data of phase oscillator to [0,2pi[\n",
    "    if(phaseOsciQ):\n",
    "        rawData = rawData % 2*np.pi\n",
    "    \n",
    "    shapedData = np.reshape(rawData, (-1,ncomponents,nx))                           # reshape array for future use\n",
    "    nstates = shapedData.shape[0]                                                   # find number of states\n",
    "\n",
    "    return [shapedData, nstates]"
   ]
  },
  {
   "cell_type": "code",
   "execution_count": null,
   "metadata": {},
   "outputs": [],
   "source": [
    "def plot_frame_nw(t):\n",
    "    mpl.rcParams['xtick.labelsize'] = 18\n",
    "    mpl.rcParams['ytick.labelsize'] = 18\n",
    "    fsAxesLabels = 20\n",
    "    fsPlotLabels = 22\n",
    "    fsMainLabel = 24\n",
    "\n",
    "    fig = plt.figure(figsize=(16,5.5))\n",
    "    fig.suptitle('t = ' + '%.1f' % t, fontsize=fsMainLabel)\n",
    "\n",
    "    if(ncomponents == 1):\n",
    "        # data\n",
    "        x = np.arange(1,nx+1)\n",
    "        y = uvData[t,0,:]\n",
    "        # plot\n",
    "        plt.scatter(x, y)\n",
    "        # plot options\n",
    "        plt.title('u',{'fontsize':fsPlotLabels})\n",
    "        plt.xlabel('index i',{'fontsize':fsAxesLabels})\n",
    "        plt.ylabel('variable u',{'fontsize':fsAxesLabels})\n",
    "        \n",
    "    elif(ncomponents == 2):\n",
    "        # data\n",
    "        x = np.arange(1,nx+1)\n",
    "        y1 = uvData[t,0,:]\n",
    "        y2 = uvData[t,1,:]\n",
    "        # plot\n",
    "        plt.scatter(x,y1, c='b', marker='x', label='1')\n",
    "        plt.scatter(x,y2, c='r', marker='s', label='-1')\n",
    "        # plot options\n",
    "        plt.title('u,v',{'fontsize':fsPlotLabels})\n",
    "        plt.xlabel('index i',{'fontsize':fsAxesLabels})\n",
    "        plt.ylabel('variables u,v',{'fontsize':fsAxesLabels})\n",
    "        \n",
    "    plt.show()"
   ]
  },
  {
   "cell_type": "code",
   "execution_count": null,
   "metadata": {},
   "outputs": [],
   "source": [
    "def plot_frame_1d(t):\n",
    "    mpl.rcParams['xtick.labelsize'] = 18\n",
    "    mpl.rcParams['ytick.labelsize'] = 18\n",
    "    fsAxesLabels = 20\n",
    "    fsPlotLabels = 22\n",
    "    fsMainLabel = 24\n",
    "\n",
    "    fig = plt.figure(figsize=(16,5.5))\n",
    "    fig.suptitle('t = ' + '%.1f' % t, fontsize=fsMainLabel)\n",
    "\n",
    "    if(ncomponents == 1):\n",
    "        # data\n",
    "        x = np.arange(1,nx+1)\n",
    "        y = uvData[t,0,:]\n",
    "        # plot\n",
    "        plt.scatter(x, y)\n",
    "        # plot options\n",
    "        plt.title('u',{'fontsize':fsPlotLabels})\n",
    "        plt.xlabel('index i',{'fontsize':fsAxesLabels})\n",
    "        plt.ylabel('variable u',{'fontsize':fsAxesLabels})\n",
    "        plt.axis(plotRanges)\n",
    "        \n",
    "    elif(ncomponents == 2):\n",
    "        # data\n",
    "        x = np.arange(1,nx+1)\n",
    "        y1 = uvData[t,0,:]\n",
    "        y2 = uvData[t,1,:]\n",
    "        # plot\n",
    "        plt.scatter(x,y1, c='b', marker='x', label='1')\n",
    "        plt.scatter(x,y2, c='r', marker='s', label='-1')\n",
    "        # plot options\n",
    "        plt.title('u,v',{'fontsize':fsPlotLabels})\n",
    "        plt.xlabel('index i',{'fontsize':fsAxesLabels})\n",
    "        plt.ylabel('variables u,v',{'fontsize':fsAxesLabels})\n",
    "        plt.axis(plotRanges)\n",
    "        \n",
    "    plt.show()"
   ]
  },
  {
   "cell_type": "code",
   "execution_count": null,
   "metadata": {},
   "outputs": [],
   "source": [
    "def plot_frame(t):\n",
    "    if(networkQ):\n",
    "        plot_frame_nw(t)\n",
    "    else:\n",
    "        plot_frame_1d(t)"
   ]
  },
  {
   "cell_type": "code",
   "execution_count": null,
   "metadata": {},
   "outputs": [],
   "source": [
    "# main\n",
    "pth = \"/home/\"+getpass.getuser()+\"/Desktop/Simulations/phase_nonlocal_cpu\";\n",
    "[rawData, ncomponents, dt, nx] = loadData(pth)\n",
    "\n",
    "# model options\n",
    "phaseOsciQ=True\n",
    "[uvData, nstates] = prepareData(rawData)\n",
    "\n",
    "# plot options\n",
    "networkQ=False\n",
    "plotRanges = [0, nx+1, 0, 2*np.pi]     # [xmin,xmax,ymin,ymax]"
   ]
  },
  {
   "cell_type": "code",
   "execution_count": null,
   "metadata": {},
   "outputs": [],
   "source": [
    "# choose specific frame\n",
    "interact(plot_frame_1d, t=widgets.IntSlider(min=0,max=nstates-1,step=1,value=0));"
   ]
  },
  {
   "cell_type": "code",
   "execution_count": null,
   "metadata": {},
   "outputs": [],
   "source": [
    "# animation\n",
    "interact(plot_frame, t=widgets.Play(min=0,max=nstates-1,step=1,value=0));"
   ]
  },
  {
   "cell_type": "code",
   "execution_count": null,
   "metadata": {},
   "outputs": [],
   "source": [
    "# space time plot\n",
    "variableIndex=0\n",
    "dn=100                                             # leave out some states for faster plotting\n",
    "\n",
    "x_grid=np.linspace(0,nstates*dt,nstates)[::dn]\n",
    "y_grid=np.arange(1,nx+1)\n",
    "x_mesh,y_mesh=np.meshgrid(x_grid,y_grid)\n",
    "mpl.rcParams['xtick.labelsize'] = 18\n",
    "mpl.rcParams['ytick.labelsize'] = 18\n",
    "fsAxesLabels = 20\n",
    "fsPlotLabels = 22\n",
    "fsMainLabel = 24\n",
    "plt.pcolormesh(x_mesh,y_mesh,uvData[::dn,variableIndex,:].T)\n",
    "plt.xlabel('time t',{'fontsize':fsAxesLabels})\n",
    "plt.ylabel('index i',{'fontsize':fsAxesLabels})\n",
    "colorbar = plt.colorbar(fraction=0.046, pad=0.04)\n",
    "plt.clim(plotRanges[2:])\n",
    "colorbar.set_label('u',size=fsAxesLabels)\n",
    "plt.show()"
   ]
  },
  {
   "cell_type": "code",
   "execution_count": null,
   "metadata": {},
   "outputs": [],
   "source": []
  }
 ],
 "metadata": {
  "kernelspec": {
   "display_name": "Python 3",
   "language": "python",
   "name": "python3"
  },
  "language_info": {
   "codemirror_mode": {
    "name": "ipython",
    "version": 3
   },
   "file_extension": ".py",
   "mimetype": "text/x-python",
   "name": "python",
   "nbconvert_exporter": "python",
   "pygments_lexer": "ipython3",
   "version": "3.6.7"
  }
 },
 "nbformat": 4,
 "nbformat_minor": 2
}
